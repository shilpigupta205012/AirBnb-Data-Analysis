{
 "cells": [
  {
   "cell_type": "markdown",
   "metadata": {},
   "source": [
    "# Background & Context\n",
    "Airbnb is an online platform that allows people to rent short term accommodation. This ranges from regular people with a spare bedroom to property management firms who lease multiple rentals. On the one side, Airbnb enables owners to list their space and earn rental money. On the other side, it provides travelers easy access to renting private homes.\n",
    "Airbnb receives commissions from two sources upon every booking, namely from the hosts and guests. For every booking, Airbnb charges the guest 6-12% of the booking fee. Moreover, Airbnb charges the host 3% for every successful transaction.\n",
    "As a senior data scientist at Airbnb, you have to come up with a pricing model that can effectively predict the Rent for an accommodation and can help hosts, travelers, and also the business in devising profitable strategies.\n",
    "\n",
    "# Objective\n",
    "1.\tExplore and visualize the dataset.\n",
    "2.\tBuild a linear regression model to predict the log of rental price\n",
    "3.\tGenerate a set of insights and recommendations that will help the business.\n",
    "\n",
    "# Data Dictionary \n",
    "1. id:\t                       Property ID\n",
    "2. room_type:\t               Type of Room in the property\n",
    "3. accommodates:\t               How many adults can this property accomodate\n",
    "4. bathrooms:\t               Number of bathrooms in the property\n",
    "5. cancellation_policy:\t       Cancellation policy of the property\n",
    "6. cleaning_fee:\t               This denotes whether the property's cleaning fee is included in the rent or not\n",
    "7. instant_bookable:\t           It indicates whether an instant booking facility is available or not\n",
    "8. review_scores_rating:\t       The review rating score of the property\n",
    "9. bedrooms:\t                   Number of bedrooms in the property\n",
    "10. beds:                   Total number of beds in the property\n",
    "11. log_price:\t               Log of the rental price of the property for a fixed period \n"
   ]
  },
  {
   "cell_type": "markdown",
   "metadata": {},
   "source": [
    "# IMPORTING LIBRARIES"
   ]
  },
  {
   "cell_type": "code",
   "execution_count": 1,
   "metadata": {},
   "outputs": [],
   "source": [
    "import pandas as pd\n",
    "import numpy as np\n",
    "from collections import Counter\n",
    "%matplotlib inline\n",
    "import warnings\n",
    "warnings.filterwarnings(\"ignore\")\n",
    "import matplotlib\n",
    "import matplotlib.pyplot as plt\n",
    "matplotlib.style.use('ggplot')\n",
    "\n",
    "import seaborn as sns\n",
    "from sklearn.model_selection import train_test_split\n",
    "from sklearn.metrics import r2_score\n",
    "import scipy.stats as stats\n",
    "\n",
    "from sklearn.linear_model import LinearRegression,Lasso,Ridge,ElasticNet\n",
    "from sklearn.tree import DecisionTreeRegressor\n",
    "from sklearn.ensemble import RandomForestRegressor\n",
    "from sklearn.metrics import r2_score,mean_squared_error"
   ]
  },
  {
   "cell_type": "markdown",
   "metadata": {},
   "source": [
    "# IMPORTING DATASET"
   ]
  },
  {
   "cell_type": "code",
   "execution_count": 2,
   "metadata": {},
   "outputs": [
    {
     "data": {
      "text/html": [
       "<div>\n",
       "<style scoped>\n",
       "    .dataframe tbody tr th:only-of-type {\n",
       "        vertical-align: middle;\n",
       "    }\n",
       "\n",
       "    .dataframe tbody tr th {\n",
       "        vertical-align: top;\n",
       "    }\n",
       "\n",
       "    .dataframe thead th {\n",
       "        text-align: right;\n",
       "    }\n",
       "</style>\n",
       "<table border=\"1\" class=\"dataframe\">\n",
       "  <thead>\n",
       "    <tr style=\"text-align: right;\">\n",
       "      <th></th>\n",
       "      <th>id</th>\n",
       "      <th>room_type</th>\n",
       "      <th>accommodates</th>\n",
       "      <th>bathrooms</th>\n",
       "      <th>cancellation_policy</th>\n",
       "      <th>cleaning_fee</th>\n",
       "      <th>instant_bookable</th>\n",
       "      <th>review_scores_rating</th>\n",
       "      <th>bedrooms</th>\n",
       "      <th>beds</th>\n",
       "      <th>log_price</th>\n",
       "    </tr>\n",
       "  </thead>\n",
       "  <tbody>\n",
       "    <tr>\n",
       "      <th>0</th>\n",
       "      <td>6901257</td>\n",
       "      <td>Entire home/apt</td>\n",
       "      <td>3.0</td>\n",
       "      <td>1.0</td>\n",
       "      <td>strict</td>\n",
       "      <td>True</td>\n",
       "      <td>f</td>\n",
       "      <td>100.0</td>\n",
       "      <td>1.0</td>\n",
       "      <td>1.0</td>\n",
       "      <td>5.010635</td>\n",
       "    </tr>\n",
       "    <tr>\n",
       "      <th>1</th>\n",
       "      <td>6304928</td>\n",
       "      <td>Entire home/apt</td>\n",
       "      <td>7.0</td>\n",
       "      <td>1.0</td>\n",
       "      <td>strict</td>\n",
       "      <td>True</td>\n",
       "      <td>t</td>\n",
       "      <td>93.0</td>\n",
       "      <td>3.0</td>\n",
       "      <td>3.0</td>\n",
       "      <td>5.129899</td>\n",
       "    </tr>\n",
       "    <tr>\n",
       "      <th>2</th>\n",
       "      <td>7919400</td>\n",
       "      <td>Entire home/apt</td>\n",
       "      <td>5.0</td>\n",
       "      <td>1.0</td>\n",
       "      <td>moderate</td>\n",
       "      <td>True</td>\n",
       "      <td>t</td>\n",
       "      <td>92.0</td>\n",
       "      <td>1.0</td>\n",
       "      <td>3.0</td>\n",
       "      <td>4.976734</td>\n",
       "    </tr>\n",
       "    <tr>\n",
       "      <th>3</th>\n",
       "      <td>13418779</td>\n",
       "      <td>Entire home/apt</td>\n",
       "      <td>4.0</td>\n",
       "      <td>1.0</td>\n",
       "      <td>flexible</td>\n",
       "      <td>True</td>\n",
       "      <td>f</td>\n",
       "      <td>NaN</td>\n",
       "      <td>2.0</td>\n",
       "      <td>2.0</td>\n",
       "      <td>6.620073</td>\n",
       "    </tr>\n",
       "    <tr>\n",
       "      <th>4</th>\n",
       "      <td>3808709</td>\n",
       "      <td>Entire home/apt</td>\n",
       "      <td>2.0</td>\n",
       "      <td>1.0</td>\n",
       "      <td>moderate</td>\n",
       "      <td>True</td>\n",
       "      <td>t</td>\n",
       "      <td>40.0</td>\n",
       "      <td>0.0</td>\n",
       "      <td>1.0</td>\n",
       "      <td>4.744932</td>\n",
       "    </tr>\n",
       "  </tbody>\n",
       "</table>\n",
       "</div>"
      ],
      "text/plain": [
       "         id        room_type  accommodates  bathrooms cancellation_policy  \\\n",
       "0   6901257  Entire home/apt           3.0        1.0              strict   \n",
       "1   6304928  Entire home/apt           7.0        1.0              strict   \n",
       "2   7919400  Entire home/apt           5.0        1.0            moderate   \n",
       "3  13418779  Entire home/apt           4.0        1.0            flexible   \n",
       "4   3808709  Entire home/apt           2.0        1.0            moderate   \n",
       "\n",
       "  cleaning_fee instant_bookable  review_scores_rating  bedrooms  beds  \\\n",
       "0         True                f                 100.0       1.0   1.0   \n",
       "1         True                t                  93.0       3.0   3.0   \n",
       "2         True                t                  92.0       1.0   3.0   \n",
       "3         True                f                   NaN       2.0   2.0   \n",
       "4         True                t                  40.0       0.0   1.0   \n",
       "\n",
       "   log_price  \n",
       "0   5.010635  \n",
       "1   5.129899  \n",
       "2   4.976734  \n",
       "3   6.620073  \n",
       "4   4.744932  "
      ]
     },
     "execution_count": 2,
     "metadata": {},
     "output_type": "execute_result"
    }
   ],
   "source": [
    "Data = pd.read_csv(\"AirBNB-SA-13447-2-2.csv\")\n",
    "Data.head()"
   ]
  },
  {
   "cell_type": "code",
   "execution_count": 3,
   "metadata": {},
   "outputs": [
    {
     "name": "stdout",
     "output_type": "stream",
     "text": [
      "<class 'pandas.core.frame.DataFrame'>\n",
      "RangeIndex: 74111 entries, 0 to 74110\n",
      "Data columns (total 11 columns):\n",
      " #   Column                Non-Null Count  Dtype  \n",
      "---  ------                --------------  -----  \n",
      " 0   id                    74111 non-null  int64  \n",
      " 1   room_type             74106 non-null  object \n",
      " 2   accommodates          74108 non-null  float64\n",
      " 3   bathrooms             73908 non-null  float64\n",
      " 4   cancellation_policy   74103 non-null  object \n",
      " 5   cleaning_fee          74107 non-null  object \n",
      " 6   instant_bookable      74111 non-null  object \n",
      " 7   review_scores_rating  57389 non-null  float64\n",
      " 8   bedrooms              74019 non-null  float64\n",
      " 9   beds                  73980 non-null  float64\n",
      " 10  log_price             74111 non-null  float64\n",
      "dtypes: float64(6), int64(1), object(4)\n",
      "memory usage: 6.2+ MB\n"
     ]
    }
   ],
   "source": [
    "Data.info()"
   ]
  },
  {
   "cell_type": "code",
   "execution_count": 4,
   "metadata": {},
   "outputs": [
    {
     "data": {
      "text/html": [
       "<div>\n",
       "<style scoped>\n",
       "    .dataframe tbody tr th:only-of-type {\n",
       "        vertical-align: middle;\n",
       "    }\n",
       "\n",
       "    .dataframe tbody tr th {\n",
       "        vertical-align: top;\n",
       "    }\n",
       "\n",
       "    .dataframe thead th {\n",
       "        text-align: right;\n",
       "    }\n",
       "</style>\n",
       "<table border=\"1\" class=\"dataframe\">\n",
       "  <thead>\n",
       "    <tr style=\"text-align: right;\">\n",
       "      <th></th>\n",
       "      <th>id</th>\n",
       "      <th>accommodates</th>\n",
       "      <th>bathrooms</th>\n",
       "      <th>review_scores_rating</th>\n",
       "      <th>bedrooms</th>\n",
       "      <th>beds</th>\n",
       "      <th>log_price</th>\n",
       "    </tr>\n",
       "  </thead>\n",
       "  <tbody>\n",
       "    <tr>\n",
       "      <th>count</th>\n",
       "      <td>7.411100e+04</td>\n",
       "      <td>74108.000000</td>\n",
       "      <td>73908.000000</td>\n",
       "      <td>57389.000000</td>\n",
       "      <td>74019.000000</td>\n",
       "      <td>73980.000000</td>\n",
       "      <td>74111.000000</td>\n",
       "    </tr>\n",
       "    <tr>\n",
       "      <th>mean</th>\n",
       "      <td>1.126662e+07</td>\n",
       "      <td>3.155125</td>\n",
       "      <td>1.235272</td>\n",
       "      <td>94.067365</td>\n",
       "      <td>1.265797</td>\n",
       "      <td>1.710868</td>\n",
       "      <td>4.782069</td>\n",
       "    </tr>\n",
       "    <tr>\n",
       "      <th>std</th>\n",
       "      <td>6.081735e+06</td>\n",
       "      <td>2.153603</td>\n",
       "      <td>0.582054</td>\n",
       "      <td>7.836556</td>\n",
       "      <td>0.852149</td>\n",
       "      <td>1.254142</td>\n",
       "      <td>0.717394</td>\n",
       "    </tr>\n",
       "    <tr>\n",
       "      <th>min</th>\n",
       "      <td>3.440000e+02</td>\n",
       "      <td>1.000000</td>\n",
       "      <td>0.000000</td>\n",
       "      <td>20.000000</td>\n",
       "      <td>0.000000</td>\n",
       "      <td>0.000000</td>\n",
       "      <td>0.000000</td>\n",
       "    </tr>\n",
       "    <tr>\n",
       "      <th>25%</th>\n",
       "      <td>6.261964e+06</td>\n",
       "      <td>2.000000</td>\n",
       "      <td>1.000000</td>\n",
       "      <td>92.000000</td>\n",
       "      <td>1.000000</td>\n",
       "      <td>1.000000</td>\n",
       "      <td>4.317488</td>\n",
       "    </tr>\n",
       "    <tr>\n",
       "      <th>50%</th>\n",
       "      <td>1.225415e+07</td>\n",
       "      <td>2.000000</td>\n",
       "      <td>1.000000</td>\n",
       "      <td>96.000000</td>\n",
       "      <td>1.000000</td>\n",
       "      <td>1.000000</td>\n",
       "      <td>4.709530</td>\n",
       "    </tr>\n",
       "    <tr>\n",
       "      <th>75%</th>\n",
       "      <td>1.640226e+07</td>\n",
       "      <td>4.000000</td>\n",
       "      <td>1.000000</td>\n",
       "      <td>100.000000</td>\n",
       "      <td>1.000000</td>\n",
       "      <td>2.000000</td>\n",
       "      <td>5.220356</td>\n",
       "    </tr>\n",
       "    <tr>\n",
       "      <th>max</th>\n",
       "      <td>2.123090e+07</td>\n",
       "      <td>16.000000</td>\n",
       "      <td>8.000000</td>\n",
       "      <td>100.000000</td>\n",
       "      <td>10.000000</td>\n",
       "      <td>18.000000</td>\n",
       "      <td>7.600402</td>\n",
       "    </tr>\n",
       "  </tbody>\n",
       "</table>\n",
       "</div>"
      ],
      "text/plain": [
       "                 id  accommodates     bathrooms  review_scores_rating  \\\n",
       "count  7.411100e+04  74108.000000  73908.000000          57389.000000   \n",
       "mean   1.126662e+07      3.155125      1.235272             94.067365   \n",
       "std    6.081735e+06      2.153603      0.582054              7.836556   \n",
       "min    3.440000e+02      1.000000      0.000000             20.000000   \n",
       "25%    6.261964e+06      2.000000      1.000000             92.000000   \n",
       "50%    1.225415e+07      2.000000      1.000000             96.000000   \n",
       "75%    1.640226e+07      4.000000      1.000000            100.000000   \n",
       "max    2.123090e+07     16.000000      8.000000            100.000000   \n",
       "\n",
       "           bedrooms          beds     log_price  \n",
       "count  74019.000000  73980.000000  74111.000000  \n",
       "mean       1.265797      1.710868      4.782069  \n",
       "std        0.852149      1.254142      0.717394  \n",
       "min        0.000000      0.000000      0.000000  \n",
       "25%        1.000000      1.000000      4.317488  \n",
       "50%        1.000000      1.000000      4.709530  \n",
       "75%        1.000000      2.000000      5.220356  \n",
       "max       10.000000     18.000000      7.600402  "
      ]
     },
     "execution_count": 4,
     "metadata": {},
     "output_type": "execute_result"
    }
   ],
   "source": [
    "Data.describe()"
   ]
  },
  {
   "cell_type": "markdown",
   "metadata": {},
   "source": [
    "Here, it is clear that we have 4 cateogorical columns.\n",
    "Lets explore it further"
   ]
  },
  {
   "cell_type": "markdown",
   "metadata": {},
   "source": [
    "## CHECKING FOR MISSING VALUES"
   ]
  },
  {
   "cell_type": "code",
   "execution_count": 5,
   "metadata": {},
   "outputs": [
    {
     "data": {
      "text/plain": [
       "id                          0\n",
       "room_type                   5\n",
       "accommodates                3\n",
       "bathrooms                 203\n",
       "cancellation_policy         8\n",
       "cleaning_fee                4\n",
       "instant_bookable            0\n",
       "review_scores_rating    16722\n",
       "bedrooms                   92\n",
       "beds                      131\n",
       "log_price                   0\n",
       "dtype: int64"
      ]
     },
     "execution_count": 5,
     "metadata": {},
     "output_type": "execute_result"
    }
   ],
   "source": [
    "Data.isnull().sum()"
   ]
  },
  {
   "cell_type": "code",
   "execution_count": 6,
   "metadata": {},
   "outputs": [
    {
     "data": {
      "text/plain": [
       "0    57119\n",
       "1    16868\n",
       "2       76\n",
       "3       44\n",
       "4        4\n",
       "dtype: int64"
      ]
     },
     "execution_count": 6,
     "metadata": {},
     "output_type": "execute_result"
    }
   ],
   "source": [
    "# counting the number of missing values per row\n",
    "Data.isnull().sum(axis=1).value_counts()"
   ]
  },
  {
   "cell_type": "code",
   "execution_count": 7,
   "metadata": {},
   "outputs": [
    {
     "name": "stdout",
     "output_type": "stream",
     "text": [
      "% of Mising values in review_score_rating column\n"
     ]
    },
    {
     "data": {
      "text/plain": [
       "0.2256375657805964"
      ]
     },
     "execution_count": 7,
     "metadata": {},
     "output_type": "execute_result"
    }
   ],
   "source": [
    "print(\"% of Mising values in review_score_rating column\")\n",
    "16722/74110"
   ]
  },
  {
   "cell_type": "markdown",
   "metadata": {},
   "source": [
    "Here, it can be seen that there are highest number of missing values in review score rating column i.e 22% lets remove the column.\n",
    "\n",
    "## DEALING WITH MISSING VALUES"
   ]
  },
  {
   "cell_type": "code",
   "execution_count": 8,
   "metadata": {},
   "outputs": [],
   "source": [
    "Data.drop(['review_scores_rating'], axis=1, inplace=True)"
   ]
  },
  {
   "cell_type": "code",
   "execution_count": 9,
   "metadata": {},
   "outputs": [
    {
     "data": {
      "text/plain": [
       "0    73752\n",
       "1      278\n",
       "2       75\n",
       "3        6\n",
       "dtype: int64"
      ]
     },
     "execution_count": 9,
     "metadata": {},
     "output_type": "execute_result"
    }
   ],
   "source": [
    "# most rows don't have missing values now\n",
    "num_missing = Data.isnull().sum(axis=1)\n",
    "num_missing.value_counts()"
   ]
  },
  {
   "cell_type": "code",
   "execution_count": 10,
   "metadata": {},
   "outputs": [
    {
     "name": "stdout",
     "output_type": "stream",
     "text": [
      "For the rows with exactly 1 missing values, NAs are found in:\n",
      "room_type                5\n",
      "bathrooms              152\n",
      "cancellation_policy      1\n",
      "bedrooms                61\n",
      "beds                    59\n",
      "dtype: int64\n",
      "\n",
      "\n",
      "\n",
      "For the rows with exactly 2 missing values, NAs are found in:\n",
      "bathrooms              45\n",
      "cancellation_policy     4\n",
      "cleaning_fee            4\n",
      "bedrooms               28\n",
      "beds                   69\n",
      "dtype: int64\n",
      "\n",
      "\n",
      "\n",
      "For the rows with exactly 3 missing values, NAs are found in:\n",
      "accommodates           3\n",
      "bathrooms              6\n",
      "cancellation_policy    3\n",
      "bedrooms               3\n",
      "beds                   3\n",
      "dtype: int64\n",
      "\n",
      "\n",
      "\n"
     ]
    }
   ],
   "source": [
    "for n in num_missing.value_counts().sort_index().index:\n",
    "    if n > 0:\n",
    "        print(f'For the rows with exactly {n} missing values, NAs are found in:')\n",
    "        n_miss_per_col = Data[num_missing == n].isnull().sum()\n",
    "        print(n_miss_per_col[n_miss_per_col > 0])\n",
    "        print('\\n\\n')\n",
    "        "
   ]
  },
  {
   "cell_type": "markdown",
   "metadata": {},
   "source": [
    "This confirms that certain columns tend to be missing most in bathrooms, bedrooms and beds. How exactly we handle this will depend on what we're doing. We will likely to drop the particular rows as they are really less.\n"
   ]
  },
  {
   "cell_type": "code",
   "execution_count": 11,
   "metadata": {},
   "outputs": [
    {
     "name": "stdout",
     "output_type": "stream",
     "text": [
      "203\n"
     ]
    },
    {
     "data": {
      "text/plain": [
       "0"
      ]
     },
     "execution_count": 11,
     "metadata": {},
     "output_type": "execute_result"
    }
   ],
   "source": [
    "# now using `fillna` with a numeric column\n",
    "print(Data['bathrooms'].isnull().sum())\n",
    "Data['bathrooms'].fillna(Data['bathrooms'].mean(), inplace=True)  # mean imputation\n",
    "Data['bathrooms'].isnull().sum()"
   ]
  },
  {
   "cell_type": "code",
   "execution_count": 12,
   "metadata": {},
   "outputs": [
    {
     "name": "stdout",
     "output_type": "stream",
     "text": [
      "92\n"
     ]
    },
    {
     "data": {
      "text/plain": [
       "0"
      ]
     },
     "execution_count": 12,
     "metadata": {},
     "output_type": "execute_result"
    }
   ],
   "source": [
    "print(Data['bedrooms'].isnull().sum())\n",
    "Data['bedrooms'].fillna(Data['bedrooms'].mean(), inplace=True)  # mean imputation\n",
    "Data['bedrooms'].isnull().sum()"
   ]
  },
  {
   "cell_type": "code",
   "execution_count": 13,
   "metadata": {},
   "outputs": [
    {
     "name": "stdout",
     "output_type": "stream",
     "text": [
      "131\n"
     ]
    },
    {
     "data": {
      "text/plain": [
       "0"
      ]
     },
     "execution_count": 13,
     "metadata": {},
     "output_type": "execute_result"
    }
   ],
   "source": [
    "print(Data['beds'].isnull().sum())\n",
    "Data['beds'].fillna(Data['beds'].mean(), inplace=True)  # mean imputation\n",
    "Data['beds'].isnull().sum()"
   ]
  },
  {
   "cell_type": "code",
   "execution_count": 14,
   "metadata": {},
   "outputs": [
    {
     "data": {
      "text/html": [
       "<div>\n",
       "<style scoped>\n",
       "    .dataframe tbody tr th:only-of-type {\n",
       "        vertical-align: middle;\n",
       "    }\n",
       "\n",
       "    .dataframe tbody tr th {\n",
       "        vertical-align: top;\n",
       "    }\n",
       "\n",
       "    .dataframe thead th {\n",
       "        text-align: right;\n",
       "    }\n",
       "</style>\n",
       "<table border=\"1\" class=\"dataframe\">\n",
       "  <thead>\n",
       "    <tr style=\"text-align: right;\">\n",
       "      <th></th>\n",
       "      <th>id</th>\n",
       "      <th>room_type</th>\n",
       "      <th>accommodates</th>\n",
       "      <th>bathrooms</th>\n",
       "      <th>cancellation_policy</th>\n",
       "      <th>cleaning_fee</th>\n",
       "      <th>instant_bookable</th>\n",
       "      <th>bedrooms</th>\n",
       "      <th>beds</th>\n",
       "      <th>log_price</th>\n",
       "    </tr>\n",
       "  </thead>\n",
       "  <tbody>\n",
       "    <tr>\n",
       "      <th>0</th>\n",
       "      <td>6901257</td>\n",
       "      <td>Entire home/apt</td>\n",
       "      <td>3.0</td>\n",
       "      <td>1.0</td>\n",
       "      <td>strict</td>\n",
       "      <td>True</td>\n",
       "      <td>f</td>\n",
       "      <td>1.0</td>\n",
       "      <td>1.0</td>\n",
       "      <td>5.010635</td>\n",
       "    </tr>\n",
       "    <tr>\n",
       "      <th>1</th>\n",
       "      <td>6304928</td>\n",
       "      <td>Entire home/apt</td>\n",
       "      <td>7.0</td>\n",
       "      <td>1.0</td>\n",
       "      <td>strict</td>\n",
       "      <td>True</td>\n",
       "      <td>t</td>\n",
       "      <td>3.0</td>\n",
       "      <td>3.0</td>\n",
       "      <td>5.129899</td>\n",
       "    </tr>\n",
       "    <tr>\n",
       "      <th>2</th>\n",
       "      <td>7919400</td>\n",
       "      <td>Entire home/apt</td>\n",
       "      <td>5.0</td>\n",
       "      <td>1.0</td>\n",
       "      <td>moderate</td>\n",
       "      <td>True</td>\n",
       "      <td>t</td>\n",
       "      <td>1.0</td>\n",
       "      <td>3.0</td>\n",
       "      <td>4.976734</td>\n",
       "    </tr>\n",
       "    <tr>\n",
       "      <th>3</th>\n",
       "      <td>13418779</td>\n",
       "      <td>Entire home/apt</td>\n",
       "      <td>4.0</td>\n",
       "      <td>1.0</td>\n",
       "      <td>flexible</td>\n",
       "      <td>True</td>\n",
       "      <td>f</td>\n",
       "      <td>2.0</td>\n",
       "      <td>2.0</td>\n",
       "      <td>6.620073</td>\n",
       "    </tr>\n",
       "    <tr>\n",
       "      <th>4</th>\n",
       "      <td>3808709</td>\n",
       "      <td>Entire home/apt</td>\n",
       "      <td>2.0</td>\n",
       "      <td>1.0</td>\n",
       "      <td>moderate</td>\n",
       "      <td>True</td>\n",
       "      <td>t</td>\n",
       "      <td>0.0</td>\n",
       "      <td>1.0</td>\n",
       "      <td>4.744932</td>\n",
       "    </tr>\n",
       "  </tbody>\n",
       "</table>\n",
       "</div>"
      ],
      "text/plain": [
       "         id        room_type  accommodates  bathrooms cancellation_policy  \\\n",
       "0   6901257  Entire home/apt           3.0        1.0              strict   \n",
       "1   6304928  Entire home/apt           7.0        1.0              strict   \n",
       "2   7919400  Entire home/apt           5.0        1.0            moderate   \n",
       "3  13418779  Entire home/apt           4.0        1.0            flexible   \n",
       "4   3808709  Entire home/apt           2.0        1.0            moderate   \n",
       "\n",
       "  cleaning_fee instant_bookable  bedrooms  beds  log_price  \n",
       "0         True                f       1.0   1.0   5.010635  \n",
       "1         True                t       3.0   3.0   5.129899  \n",
       "2         True                t       1.0   3.0   4.976734  \n",
       "3         True                f       2.0   2.0   6.620073  \n",
       "4         True                t       0.0   1.0   4.744932  "
      ]
     },
     "execution_count": 14,
     "metadata": {},
     "output_type": "execute_result"
    }
   ],
   "source": [
    "# replacing NaN values with 0\n",
    "Data.fillna(0, inplace=True)\n",
    "\n",
    "#exclude the listings with 0 for price,beds,bedrooms,accomodates etc\n",
    "Data = Data[Data.room_type != 0]\n",
    "Data = Data[Data.cancellation_policy != 0]\n",
    "Data = Data[Data.accommodates  > 0]\n",
    "Data.head()"
   ]
  },
  {
   "cell_type": "code",
   "execution_count": 15,
   "metadata": {},
   "outputs": [
    {
     "data": {
      "text/plain": [
       "id                     0\n",
       "room_type              0\n",
       "accommodates           0\n",
       "bathrooms              0\n",
       "cancellation_policy    0\n",
       "cleaning_fee           0\n",
       "instant_bookable       0\n",
       "bedrooms               0\n",
       "beds                   0\n",
       "log_price              0\n",
       "dtype: int64"
      ]
     },
     "execution_count": 15,
     "metadata": {},
     "output_type": "execute_result"
    }
   ],
   "source": [
    "Data.isnull().sum()"
   ]
  },
  {
   "cell_type": "markdown",
   "metadata": {},
   "source": [
    "# UNIVARIATE ANALYSIS - NUMERICAL VARIABLES"
   ]
  },
  {
   "cell_type": "code",
   "execution_count": 16,
   "metadata": {},
   "outputs": [],
   "source": [
    "#univariate analysis - numerical columns\n",
    "def histogram_boxplot(feature, figsize=(15,9), bins = None):\n",
    "    \"\"\" Boxplot and histogram combined\n",
    "    feature: 1-d feature array\n",
    "    figsize: size of fig (default (9,8))\n",
    "    bins: number of bins (default None / auto)\n",
    "    \"\"\"\n",
    "    f2, (ax_box2, ax_hist2) = plt.subplots(nrows = 2, # Number of rows of the subplot grid= 2\n",
    "                                           sharex = True, # x-axis will be shared among all subplots\n",
    "                                           gridspec_kw = {\"height_ratios\": (.15, .50)}, \n",
    "                                           figsize = figsize \n",
    "                                           ) # creating the 2 subplots\n",
    "    sns.boxplot(feature, ax=ax_box2, showmeans=True, color='lightcoral') # boxplot will be created and a star will indicate the mean value of the column\n",
    "    sns.distplot(feature, kde=F, ax=ax_hist2, bins=bins,palette =\"terrain\") if bins else sns.distplot(feature, kde=False, ax=ax_hist2) # For histogram\n",
    "    ax_hist2.axvline(np.mean(feature), color='green', linestyle='--') # Add mean to the histogram\n",
    "    ax_hist2.axvline(np.median(feature), color='black', linestyle='-') # Add median to the histogram\n",
    "\n"
   ]
  },
  {
   "cell_type": "code",
   "execution_count": 17,
   "metadata": {},
   "outputs": [
    {
     "data": {
      "image/png": "[encoded data removed]",
      "text/plain": [
       "<Figure size 1440x720 with 1 Axes>"
      ]
     },
     "metadata": {},
     "output_type": "display_data"
    }
   ],
   "source": [
    "Data.describe()\n",
    "data_2 = Data[['accommodates', 'bathrooms', \n",
    "                  'bedrooms',\n",
    "       'beds', 'log_price']]\n",
    "plt.figure(figsize=(20,10))\n",
    "ax = sns.boxplot(data=data_2, orient=\"h\", palette=\"Set2\",)\n"
   ]
  },
  {
   "cell_type": "code",
   "execution_count": 18,
   "metadata": {},
   "outputs": [
    {
     "data": {
      "image/png": "[encoded data removed]",
      "text/plain": [
       "<Figure size 1080x648 with 2 Axes>"
      ]
     },
     "metadata": {},
     "output_type": "display_data"
    }
   ],
   "source": [
    "histogram_boxplot(Data['accommodates'])"
   ]
  },
  {
   "cell_type": "code",
   "execution_count": 19,
   "metadata": {},
   "outputs": [
    {
     "data": {
      "image/png": "[encoded data removed]",
      "text/plain": [
       "<Figure size 1080x648 with 2 Axes>"
      ]
     },
     "metadata": {},
     "output_type": "display_data"
    }
   ],
   "source": [
    "histogram_boxplot(Data['bathrooms'])"
   ]
  },
  {
   "cell_type": "code",
   "execution_count": 20,
   "metadata": {},
   "outputs": [
    {
     "data": {
      "image/png": "[encoded data removed]",
      "text/plain": [
       "<Figure size 1080x648 with 2 Axes>"
      ]
     },
     "metadata": {},
     "output_type": "display_data"
    }
   ],
   "source": [
    "histogram_boxplot(Data['bedrooms'])"
   ]
  },
  {
   "cell_type": "code",
   "execution_count": 21,
   "metadata": {},
   "outputs": [
    {
     "data": {
      "image/png": "[encoded data removed]",
      "text/plain": [
       "<Figure size 1080x648 with 2 Axes>"
      ]
     },
     "metadata": {},
     "output_type": "display_data"
    }
   ],
   "source": [
    "histogram_boxplot(Data['beds'])"
   ]
  },
  {
   "cell_type": "code",
   "execution_count": 22,
   "metadata": {},
   "outputs": [
    {
     "data": {
      "image/png": "[encoded data removed]",
      "text/plain": [
       "<Figure size 1080x648 with 2 Axes>"
      ]
     },
     "metadata": {},
     "output_type": "display_data"
    }
   ],
   "source": [
    "histogram_boxplot(Data['log_price'])"
   ]
  },
  {
   "cell_type": "markdown",
   "metadata": {},
   "source": [
    "It can be seen from the above graphs that majority of properties accomodates only two people, However a few can be found which accomodates 1 - 3 to 16. The maximum number accomodated is 16.\n",
    "\n",
    "Maximum number of properties have 1 bathroom, few can be found with 2 bathrooms too.\n",
    "\n",
    "Majority of accomodation types have only 1 bedroom with a single or maximum double bed.\n",
    "\n",
    "\n",
    "\n",
    "# UNIVARIATE ANALYSIS - CATEOGORICAL VARIABLES"
   ]
  },
  {
   "cell_type": "code",
   "execution_count": 23,
   "metadata": {},
   "outputs": [],
   "source": [
    "def perc_on_bar(plot, feature):\n",
    "    '''\n",
    "    plot\n",
    "    feature: categorical feature\n",
    "    the function won't work if a column is passed in hue parameter\n",
    "    '''\n",
    "    total = len(feature) # length of the column\n",
    "    for p in ax.patches:\n",
    "        percentage = '{:.1f}%'.format(100 * p.get_height()/total) # percentage of each class of the category\n",
    "        x = p.get_x() + p.get_width() / 2 - 0.05 # width of the plot\n",
    "        y = p.get_y() + p.get_height()           # hieght of the plot\n",
    "        ax.annotate(percentage, (x, y), size = 12) # annotate the percantage \n",
    "    plt.show() # show the plot\n",
    "\n"
   ]
  },
  {
   "cell_type": "code",
   "execution_count": 24,
   "metadata": {},
   "outputs": [
    {
     "name": "stdout",
     "output_type": "stream",
     "text": [
      "<class 'pandas.core.frame.DataFrame'>\n",
      "Int64Index: 74098 entries, 0 to 74110\n",
      "Data columns (total 10 columns):\n",
      " #   Column               Non-Null Count  Dtype  \n",
      "---  ------               --------------  -----  \n",
      " 0   id                   74098 non-null  int64  \n",
      " 1   room_type            74098 non-null  object \n",
      " 2   accommodates         74098 non-null  float64\n",
      " 3   bathrooms            74098 non-null  float64\n",
      " 4   cancellation_policy  74098 non-null  object \n",
      " 5   cleaning_fee         74098 non-null  object \n",
      " 6   instant_bookable     74098 non-null  object \n",
      " 7   bedrooms             74098 non-null  float64\n",
      " 8   beds                 74098 non-null  float64\n",
      " 9   log_price            74098 non-null  float64\n",
      "dtypes: float64(5), int64(1), object(4)\n",
      "memory usage: 6.2+ MB\n"
     ]
    },
    {
     "data": {
      "image/png": "[encoded data removed]",
      "text/plain": [
       "<Figure size 1080x360 with 1 Axes>"
      ]
     },
     "metadata": {},
     "output_type": "display_data"
    }
   ],
   "source": [
    "Data.info()\n",
    "plt.figure(figsize=(15,5))\n",
    "ax = sns.countplot(Data['room_type'],palette='winter')\n",
    "perc_on_bar(ax,Data['room_type'])\n"
   ]
  },
  {
   "cell_type": "code",
   "execution_count": 25,
   "metadata": {},
   "outputs": [
    {
     "data": {
      "image/png": "[encoded data removed]",
      "text/plain": [
       "<Figure size 1080x360 with 1 Axes>"
      ]
     },
     "metadata": {},
     "output_type": "display_data"
    }
   ],
   "source": [
    "plt.figure(figsize=(15,5))\n",
    "ax = sns.countplot(Data['cancellation_policy'],palette='winter')\n",
    "perc_on_bar(ax,Data['cancellation_policy'])\n"
   ]
  },
  {
   "cell_type": "code",
   "execution_count": 26,
   "metadata": {},
   "outputs": [
    {
     "data": {
      "image/png": "[encoded data removed]",
      "text/plain": [
       "<Figure size 1080x360 with 1 Axes>"
      ]
     },
     "metadata": {},
     "output_type": "display_data"
    }
   ],
   "source": [
    "plt.figure(figsize=(15,5))\n",
    "ax = sns.countplot(Data['instant_bookable'],palette='winter')\n",
    "perc_on_bar(ax,Data['instant_bookable'])\n"
   ]
  },
  {
   "cell_type": "code",
   "execution_count": 27,
   "metadata": {},
   "outputs": [
    {
     "data": {
      "image/png": "[encoded data removed]",
      "text/plain": [
       "<Figure size 1080x360 with 1 Axes>"
      ]
     },
     "metadata": {},
     "output_type": "display_data"
    }
   ],
   "source": [
    "plt.figure(figsize=(15,5))\n",
    "ax = sns.countplot(Data['cleaning_fee'],palette='winter')\n",
    "perc_on_bar(ax,Data['cleaning_fee'])\n"
   ]
  },
  {
   "cell_type": "markdown",
   "metadata": {},
   "source": [
    "It can be seen that 53% of listed properties are appartments while 48% are private rooms and only 3% are shared rooms.Also, 48% of property types are really strict with their cancellation policies, and can be seen that those are not available for instant bookings too.\n",
    "\n",
    "80% of properties are charged for cleaning too.\n",
    "\n",
    "\n",
    "# BIVARIATE ANALYSIS"
   ]
  },
  {
   "cell_type": "code",
   "execution_count": 28,
   "metadata": {},
   "outputs": [
    {
     "data": {
      "text/html": [
       "<div>\n",
       "<style scoped>\n",
       "    .dataframe tbody tr th:only-of-type {\n",
       "        vertical-align: middle;\n",
       "    }\n",
       "\n",
       "    .dataframe tbody tr th {\n",
       "        vertical-align: top;\n",
       "    }\n",
       "\n",
       "    .dataframe thead th {\n",
       "        text-align: right;\n",
       "    }\n",
       "</style>\n",
       "<table border=\"1\" class=\"dataframe\">\n",
       "  <thead>\n",
       "    <tr style=\"text-align: right;\">\n",
       "      <th></th>\n",
       "      <th>id</th>\n",
       "      <th>accommodates</th>\n",
       "      <th>bathrooms</th>\n",
       "      <th>bedrooms</th>\n",
       "      <th>beds</th>\n",
       "      <th>log_price</th>\n",
       "    </tr>\n",
       "  </thead>\n",
       "  <tbody>\n",
       "    <tr>\n",
       "      <th>id</th>\n",
       "      <td>1.000000</td>\n",
       "      <td>-0.005767</td>\n",
       "      <td>-0.003941</td>\n",
       "      <td>-0.007541</td>\n",
       "      <td>-0.008635</td>\n",
       "      <td>-0.007133</td>\n",
       "    </tr>\n",
       "    <tr>\n",
       "      <th>accommodates</th>\n",
       "      <td>-0.005767</td>\n",
       "      <td>1.000000</td>\n",
       "      <td>0.505176</td>\n",
       "      <td>0.709129</td>\n",
       "      <td>0.809983</td>\n",
       "      <td>0.567627</td>\n",
       "    </tr>\n",
       "    <tr>\n",
       "      <th>bathrooms</th>\n",
       "      <td>-0.003941</td>\n",
       "      <td>0.505176</td>\n",
       "      <td>1.000000</td>\n",
       "      <td>0.589661</td>\n",
       "      <td>0.525339</td>\n",
       "      <td>0.355076</td>\n",
       "    </tr>\n",
       "    <tr>\n",
       "      <th>bedrooms</th>\n",
       "      <td>-0.007541</td>\n",
       "      <td>0.709129</td>\n",
       "      <td>0.589661</td>\n",
       "      <td>1.000000</td>\n",
       "      <td>0.709121</td>\n",
       "      <td>0.473069</td>\n",
       "    </tr>\n",
       "    <tr>\n",
       "      <th>beds</th>\n",
       "      <td>-0.008635</td>\n",
       "      <td>0.809983</td>\n",
       "      <td>0.525339</td>\n",
       "      <td>0.709121</td>\n",
       "      <td>1.000000</td>\n",
       "      <td>0.441802</td>\n",
       "    </tr>\n",
       "    <tr>\n",
       "      <th>log_price</th>\n",
       "      <td>-0.007133</td>\n",
       "      <td>0.567627</td>\n",
       "      <td>0.355076</td>\n",
       "      <td>0.473069</td>\n",
       "      <td>0.441802</td>\n",
       "      <td>1.000000</td>\n",
       "    </tr>\n",
       "  </tbody>\n",
       "</table>\n",
       "</div>"
      ],
      "text/plain": [
       "                    id  accommodates  bathrooms  bedrooms      beds  log_price\n",
       "id            1.000000     -0.005767  -0.003941 -0.007541 -0.008635  -0.007133\n",
       "accommodates -0.005767      1.000000   0.505176  0.709129  0.809983   0.567627\n",
       "bathrooms    -0.003941      0.505176   1.000000  0.589661  0.525339   0.355076\n",
       "bedrooms     -0.007541      0.709129   0.589661  1.000000  0.709121   0.473069\n",
       "beds         -0.008635      0.809983   0.525339  0.709121  1.000000   0.441802\n",
       "log_price    -0.007133      0.567627   0.355076  0.473069  0.441802   1.000000"
      ]
     },
     "execution_count": 28,
     "metadata": {},
     "output_type": "execute_result"
    },
    {
     "data": {
      "image/png": "[encoded data removed]",
      "text/plain": [
       "<Figure size 720x360 with 2 Axes>"
      ]
     },
     "metadata": {},
     "output_type": "display_data"
    }
   ],
   "source": [
    "# The Correlation Matrix\n",
    "plt.figure(figsize = (10,5))\n",
    "corr = Data.corr()\n",
    "corr = (corr)\n",
    "sns.heatmap(corr, annot = True,\n",
    "            xticklabels=corr.columns.values,\n",
    "            yticklabels=corr.columns.values)\n",
    "\n",
    "corr\n"
   ]
  },
  {
   "cell_type": "markdown",
   "metadata": {},
   "source": [
    "Room type seem to have a fair correlation with the log price. Also, it can be seen that no. of bedrooms and no. of beds have a good correlation with the no. of people the property can accomodate.\n"
   ]
  },
  {
   "cell_type": "code",
   "execution_count": 29,
   "metadata": {},
   "outputs": [
    {
     "data": {
      "text/html": [
       "<div>\n",
       "<style scoped>\n",
       "    .dataframe tbody tr th:only-of-type {\n",
       "        vertical-align: middle;\n",
       "    }\n",
       "\n",
       "    .dataframe tbody tr th {\n",
       "        vertical-align: top;\n",
       "    }\n",
       "\n",
       "    .dataframe thead th {\n",
       "        text-align: right;\n",
       "    }\n",
       "</style>\n",
       "<table border=\"1\" class=\"dataframe\">\n",
       "  <thead>\n",
       "    <tr style=\"text-align: right;\">\n",
       "      <th></th>\n",
       "      <th>room_type</th>\n",
       "      <th>number_Of_Listings</th>\n",
       "    </tr>\n",
       "  </thead>\n",
       "  <tbody>\n",
       "    <tr>\n",
       "      <th>0</th>\n",
       "      <td>Entire home/apt</td>\n",
       "      <td>41302</td>\n",
       "    </tr>\n",
       "    <tr>\n",
       "      <th>1</th>\n",
       "      <td>Private room</td>\n",
       "      <td>30633</td>\n",
       "    </tr>\n",
       "    <tr>\n",
       "      <th>2</th>\n",
       "      <td>Shared room</td>\n",
       "      <td>2163</td>\n",
       "    </tr>\n",
       "  </tbody>\n",
       "</table>\n",
       "</div>"
      ],
      "text/plain": [
       "         room_type  number_Of_Listings\n",
       "0  Entire home/apt               41302\n",
       "1     Private room               30633\n",
       "2      Shared room                2163"
      ]
     },
     "execution_count": 29,
     "metadata": {},
     "output_type": "execute_result"
    }
   ],
   "source": [
    "roomType_DF=Data.groupby('room_type').id.count()\n",
    "roomType_DF=roomType_DF.reset_index()\n",
    "roomType_DF=roomType_DF.rename(columns={'id':'number_Of_Listings'})\n",
    "roomType_DF\n"
   ]
  },
  {
   "cell_type": "code",
   "execution_count": 30,
   "metadata": {},
   "outputs": [],
   "source": [
    "room = Data.room_type\n",
    "r = Counter(room)\n"
   ]
  },
  {
   "cell_type": "code",
   "execution_count": 31,
   "metadata": {},
   "outputs": [
    {
     "data": {
      "text/plain": [
       "<matplotlib.axes._subplots.AxesSubplot at 0x1820c6aeec8>"
      ]
     },
     "execution_count": 31,
     "metadata": {},
     "output_type": "execute_result"
    },
    {
     "data": {
      "image/png": "[encoded data removed]",
      "text/plain": [
       "<Figure size 360x360 with 1 Axes>"
      ]
     },
     "metadata": {},
     "output_type": "display_data"
    }
   ],
   "source": [
    "room_df = pd.DataFrame.from_dict(r, orient='index').sort_values(by=0)\n",
    "room_df.columns = ['room_type']\n",
    "room_df.plot.pie(y = 'room_type', \n",
    "                 colormap = 'Blues_r', \n",
    "                 figsize=(5,5), \n",
    "                 fontsize = 20, autopct = '%.2f',\n",
    "                 legend = False,\n",
    "                 title = 'Room Type Distribution')\n"
   ]
  },
  {
   "cell_type": "code",
   "execution_count": 32,
   "metadata": {},
   "outputs": [
    {
     "data": {
      "text/html": [
       "<div>\n",
       "<style scoped>\n",
       "    .dataframe tbody tr th:only-of-type {\n",
       "        vertical-align: middle;\n",
       "    }\n",
       "\n",
       "    .dataframe tbody tr th {\n",
       "        vertical-align: top;\n",
       "    }\n",
       "\n",
       "    .dataframe thead th {\n",
       "        text-align: right;\n",
       "    }\n",
       "</style>\n",
       "<table border=\"1\" class=\"dataframe\">\n",
       "  <thead>\n",
       "    <tr style=\"text-align: right;\">\n",
       "      <th></th>\n",
       "      <th>room_type</th>\n",
       "      <th>log_price</th>\n",
       "    </tr>\n",
       "  </thead>\n",
       "  <tbody>\n",
       "    <tr>\n",
       "      <th>0</th>\n",
       "      <td>Entire home/apt</td>\n",
       "      <td>5.167260</td>\n",
       "    </tr>\n",
       "    <tr>\n",
       "      <th>1</th>\n",
       "      <td>Private room</td>\n",
       "      <td>4.327696</td>\n",
       "    </tr>\n",
       "    <tr>\n",
       "      <th>2</th>\n",
       "      <td>Shared room</td>\n",
       "      <td>3.861535</td>\n",
       "    </tr>\n",
       "  </tbody>\n",
       "</table>\n",
       "</div>"
      ],
      "text/plain": [
       "         room_type  log_price\n",
       "0  Entire home/apt   5.167260\n",
       "1     Private room   4.327696\n",
       "2      Shared room   3.861535"
      ]
     },
     "execution_count": 32,
     "metadata": {},
     "output_type": "execute_result"
    }
   ],
   "source": [
    "roomType_Price_DF = Data.groupby(['room_type']).log_price.mean()\n",
    "roomType_Price_DF = roomType_Price_DF.reset_index()\n",
    "roomType_Price_DF=roomType_Price_DF.sort_values('log_price',ascending=[0])\n",
    "roomType_Price_DF.head()\n"
   ]
  },
  {
   "cell_type": "code",
   "execution_count": 33,
   "metadata": {},
   "outputs": [
    {
     "data": {
      "text/html": [
       "<div>\n",
       "<style scoped>\n",
       "    .dataframe tbody tr th:only-of-type {\n",
       "        vertical-align: middle;\n",
       "    }\n",
       "\n",
       "    .dataframe tbody tr th {\n",
       "        vertical-align: top;\n",
       "    }\n",
       "\n",
       "    .dataframe thead th {\n",
       "        text-align: right;\n",
       "    }\n",
       "</style>\n",
       "<table border=\"1\" class=\"dataframe\">\n",
       "  <thead>\n",
       "    <tr style=\"text-align: right;\">\n",
       "      <th></th>\n",
       "      <th>room_type</th>\n",
       "      <th>accommodates</th>\n",
       "      <th>log_price</th>\n",
       "    </tr>\n",
       "  </thead>\n",
       "  <tbody>\n",
       "    <tr>\n",
       "      <th>15</th>\n",
       "      <td>Entire home/apt</td>\n",
       "      <td>16.0</td>\n",
       "      <td>6.211037</td>\n",
       "    </tr>\n",
       "    <tr>\n",
       "      <th>13</th>\n",
       "      <td>Entire home/apt</td>\n",
       "      <td>14.0</td>\n",
       "      <td>6.156099</td>\n",
       "    </tr>\n",
       "    <tr>\n",
       "      <th>11</th>\n",
       "      <td>Entire home/apt</td>\n",
       "      <td>12.0</td>\n",
       "      <td>6.144478</td>\n",
       "    </tr>\n",
       "    <tr>\n",
       "      <th>14</th>\n",
       "      <td>Entire home/apt</td>\n",
       "      <td>15.0</td>\n",
       "      <td>6.031929</td>\n",
       "    </tr>\n",
       "    <tr>\n",
       "      <th>9</th>\n",
       "      <td>Entire home/apt</td>\n",
       "      <td>10.0</td>\n",
       "      <td>5.946650</td>\n",
       "    </tr>\n",
       "    <tr>\n",
       "      <th>12</th>\n",
       "      <td>Entire home/apt</td>\n",
       "      <td>13.0</td>\n",
       "      <td>5.902728</td>\n",
       "    </tr>\n",
       "    <tr>\n",
       "      <th>30</th>\n",
       "      <td>Private room</td>\n",
       "      <td>15.0</td>\n",
       "      <td>5.896367</td>\n",
       "    </tr>\n",
       "    <tr>\n",
       "      <th>10</th>\n",
       "      <td>Entire home/apt</td>\n",
       "      <td>11.0</td>\n",
       "      <td>5.851879</td>\n",
       "    </tr>\n",
       "    <tr>\n",
       "      <th>31</th>\n",
       "      <td>Private room</td>\n",
       "      <td>16.0</td>\n",
       "      <td>5.825971</td>\n",
       "    </tr>\n",
       "    <tr>\n",
       "      <th>7</th>\n",
       "      <td>Entire home/apt</td>\n",
       "      <td>8.0</td>\n",
       "      <td>5.769640</td>\n",
       "    </tr>\n",
       "    <tr>\n",
       "      <th>8</th>\n",
       "      <td>Entire home/apt</td>\n",
       "      <td>9.0</td>\n",
       "      <td>5.735388</td>\n",
       "    </tr>\n",
       "    <tr>\n",
       "      <th>6</th>\n",
       "      <td>Entire home/apt</td>\n",
       "      <td>7.0</td>\n",
       "      <td>5.567197</td>\n",
       "    </tr>\n",
       "    <tr>\n",
       "      <th>5</th>\n",
       "      <td>Entire home/apt</td>\n",
       "      <td>6.0</td>\n",
       "      <td>5.495670</td>\n",
       "    </tr>\n",
       "    <tr>\n",
       "      <th>24</th>\n",
       "      <td>Private room</td>\n",
       "      <td>9.0</td>\n",
       "      <td>5.367386</td>\n",
       "    </tr>\n",
       "    <tr>\n",
       "      <th>4</th>\n",
       "      <td>Entire home/apt</td>\n",
       "      <td>5.0</td>\n",
       "      <td>5.314000</td>\n",
       "    </tr>\n",
       "    <tr>\n",
       "      <th>26</th>\n",
       "      <td>Private room</td>\n",
       "      <td>11.0</td>\n",
       "      <td>5.192957</td>\n",
       "    </tr>\n",
       "    <tr>\n",
       "      <th>3</th>\n",
       "      <td>Entire home/apt</td>\n",
       "      <td>4.0</td>\n",
       "      <td>5.149824</td>\n",
       "    </tr>\n",
       "    <tr>\n",
       "      <th>42</th>\n",
       "      <td>Shared room</td>\n",
       "      <td>11.0</td>\n",
       "      <td>5.147494</td>\n",
       "    </tr>\n",
       "    <tr>\n",
       "      <th>25</th>\n",
       "      <td>Private room</td>\n",
       "      <td>10.0</td>\n",
       "      <td>5.089520</td>\n",
       "    </tr>\n",
       "    <tr>\n",
       "      <th>22</th>\n",
       "      <td>Private room</td>\n",
       "      <td>7.0</td>\n",
       "      <td>5.076222</td>\n",
       "    </tr>\n",
       "    <tr>\n",
       "      <th>28</th>\n",
       "      <td>Private room</td>\n",
       "      <td>13.0</td>\n",
       "      <td>5.010635</td>\n",
       "    </tr>\n",
       "    <tr>\n",
       "      <th>2</th>\n",
       "      <td>Entire home/apt</td>\n",
       "      <td>3.0</td>\n",
       "      <td>4.965698</td>\n",
       "    </tr>\n",
       "    <tr>\n",
       "      <th>23</th>\n",
       "      <td>Private room</td>\n",
       "      <td>8.0</td>\n",
       "      <td>4.945008</td>\n",
       "    </tr>\n",
       "    <tr>\n",
       "      <th>1</th>\n",
       "      <td>Entire home/apt</td>\n",
       "      <td>2.0</td>\n",
       "      <td>4.900548</td>\n",
       "    </tr>\n",
       "    <tr>\n",
       "      <th>21</th>\n",
       "      <td>Private room</td>\n",
       "      <td>6.0</td>\n",
       "      <td>4.841320</td>\n",
       "    </tr>\n",
       "    <tr>\n",
       "      <th>0</th>\n",
       "      <td>Entire home/apt</td>\n",
       "      <td>1.0</td>\n",
       "      <td>4.770827</td>\n",
       "    </tr>\n",
       "    <tr>\n",
       "      <th>27</th>\n",
       "      <td>Private room</td>\n",
       "      <td>12.0</td>\n",
       "      <td>4.742562</td>\n",
       "    </tr>\n",
       "    <tr>\n",
       "      <th>19</th>\n",
       "      <td>Private room</td>\n",
       "      <td>4.0</td>\n",
       "      <td>4.554484</td>\n",
       "    </tr>\n",
       "    <tr>\n",
       "      <th>20</th>\n",
       "      <td>Private room</td>\n",
       "      <td>5.0</td>\n",
       "      <td>4.553618</td>\n",
       "    </tr>\n",
       "    <tr>\n",
       "      <th>45</th>\n",
       "      <td>Shared room</td>\n",
       "      <td>15.0</td>\n",
       "      <td>4.382027</td>\n",
       "    </tr>\n",
       "    <tr>\n",
       "      <th>18</th>\n",
       "      <td>Private room</td>\n",
       "      <td>3.0</td>\n",
       "      <td>4.353232</td>\n",
       "    </tr>\n",
       "    <tr>\n",
       "      <th>17</th>\n",
       "      <td>Private room</td>\n",
       "      <td>2.0</td>\n",
       "      <td>4.352028</td>\n",
       "    </tr>\n",
       "    <tr>\n",
       "      <th>29</th>\n",
       "      <td>Private room</td>\n",
       "      <td>14.0</td>\n",
       "      <td>4.331105</td>\n",
       "    </tr>\n",
       "    <tr>\n",
       "      <th>46</th>\n",
       "      <td>Shared room</td>\n",
       "      <td>16.0</td>\n",
       "      <td>4.297205</td>\n",
       "    </tr>\n",
       "    <tr>\n",
       "      <th>16</th>\n",
       "      <td>Private room</td>\n",
       "      <td>1.0</td>\n",
       "      <td>4.182853</td>\n",
       "    </tr>\n",
       "    <tr>\n",
       "      <th>40</th>\n",
       "      <td>Shared room</td>\n",
       "      <td>9.0</td>\n",
       "      <td>4.170761</td>\n",
       "    </tr>\n",
       "    <tr>\n",
       "      <th>34</th>\n",
       "      <td>Shared room</td>\n",
       "      <td>3.0</td>\n",
       "      <td>4.032473</td>\n",
       "    </tr>\n",
       "    <tr>\n",
       "      <th>33</th>\n",
       "      <td>Shared room</td>\n",
       "      <td>2.0</td>\n",
       "      <td>4.024109</td>\n",
       "    </tr>\n",
       "    <tr>\n",
       "      <th>39</th>\n",
       "      <td>Shared room</td>\n",
       "      <td>8.0</td>\n",
       "      <td>3.911479</td>\n",
       "    </tr>\n",
       "    <tr>\n",
       "      <th>44</th>\n",
       "      <td>Shared room</td>\n",
       "      <td>14.0</td>\n",
       "      <td>3.891820</td>\n",
       "    </tr>\n",
       "    <tr>\n",
       "      <th>36</th>\n",
       "      <td>Shared room</td>\n",
       "      <td>5.0</td>\n",
       "      <td>3.868790</td>\n",
       "    </tr>\n",
       "    <tr>\n",
       "      <th>35</th>\n",
       "      <td>Shared room</td>\n",
       "      <td>4.0</td>\n",
       "      <td>3.789566</td>\n",
       "    </tr>\n",
       "    <tr>\n",
       "      <th>32</th>\n",
       "      <td>Shared room</td>\n",
       "      <td>1.0</td>\n",
       "      <td>3.774962</td>\n",
       "    </tr>\n",
       "    <tr>\n",
       "      <th>37</th>\n",
       "      <td>Shared room</td>\n",
       "      <td>6.0</td>\n",
       "      <td>3.611675</td>\n",
       "    </tr>\n",
       "    <tr>\n",
       "      <th>43</th>\n",
       "      <td>Shared room</td>\n",
       "      <td>12.0</td>\n",
       "      <td>3.580035</td>\n",
       "    </tr>\n",
       "    <tr>\n",
       "      <th>38</th>\n",
       "      <td>Shared room</td>\n",
       "      <td>7.0</td>\n",
       "      <td>3.508690</td>\n",
       "    </tr>\n",
       "    <tr>\n",
       "      <th>41</th>\n",
       "      <td>Shared room</td>\n",
       "      <td>10.0</td>\n",
       "      <td>3.427701</td>\n",
       "    </tr>\n",
       "  </tbody>\n",
       "</table>\n",
       "</div>"
      ],
      "text/plain": [
       "          room_type  accommodates  log_price\n",
       "15  Entire home/apt          16.0   6.211037\n",
       "13  Entire home/apt          14.0   6.156099\n",
       "11  Entire home/apt          12.0   6.144478\n",
       "14  Entire home/apt          15.0   6.031929\n",
       "9   Entire home/apt          10.0   5.946650\n",
       "12  Entire home/apt          13.0   5.902728\n",
       "30     Private room          15.0   5.896367\n",
       "10  Entire home/apt          11.0   5.851879\n",
       "31     Private room          16.0   5.825971\n",
       "7   Entire home/apt           8.0   5.769640\n",
       "8   Entire home/apt           9.0   5.735388\n",
       "6   Entire home/apt           7.0   5.567197\n",
       "5   Entire home/apt           6.0   5.495670\n",
       "24     Private room           9.0   5.367386\n",
       "4   Entire home/apt           5.0   5.314000\n",
       "26     Private room          11.0   5.192957\n",
       "3   Entire home/apt           4.0   5.149824\n",
       "42      Shared room          11.0   5.147494\n",
       "25     Private room          10.0   5.089520\n",
       "22     Private room           7.0   5.076222\n",
       "28     Private room          13.0   5.010635\n",
       "2   Entire home/apt           3.0   4.965698\n",
       "23     Private room           8.0   4.945008\n",
       "1   Entire home/apt           2.0   4.900548\n",
       "21     Private room           6.0   4.841320\n",
       "0   Entire home/apt           1.0   4.770827\n",
       "27     Private room          12.0   4.742562\n",
       "19     Private room           4.0   4.554484\n",
       "20     Private room           5.0   4.553618\n",
       "45      Shared room          15.0   4.382027\n",
       "18     Private room           3.0   4.353232\n",
       "17     Private room           2.0   4.352028\n",
       "29     Private room          14.0   4.331105\n",
       "46      Shared room          16.0   4.297205\n",
       "16     Private room           1.0   4.182853\n",
       "40      Shared room           9.0   4.170761\n",
       "34      Shared room           3.0   4.032473\n",
       "33      Shared room           2.0   4.024109\n",
       "39      Shared room           8.0   3.911479\n",
       "44      Shared room          14.0   3.891820\n",
       "36      Shared room           5.0   3.868790\n",
       "35      Shared room           4.0   3.789566\n",
       "32      Shared room           1.0   3.774962\n",
       "37      Shared room           6.0   3.611675\n",
       "43      Shared room          12.0   3.580035\n",
       "38      Shared room           7.0   3.508690\n",
       "41      Shared room          10.0   3.427701"
      ]
     },
     "execution_count": 33,
     "metadata": {},
     "output_type": "execute_result"
    }
   ],
   "source": [
    "roomreview_Price_DF = Data.groupby(['room_type','accommodates']).log_price.mean()\n",
    "roomreview_Price_DF = roomreview_Price_DF.reset_index()\n",
    "roomreview_Price_DF=roomreview_Price_DF.sort_values('log_price',ascending=[0])\n",
    "roomreview_Price_DF\n"
   ]
  },
  {
   "cell_type": "markdown",
   "metadata": {},
   "source": [
    "From this analysis above we can easily state that renting an entire home or appartment is more costly than renting a private room or just a shared room"
   ]
  },
  {
   "cell_type": "code",
   "execution_count": 34,
   "metadata": {},
   "outputs": [
    {
     "data": {
      "text/plain": [
       "(3.5, -0.5)"
      ]
     },
     "execution_count": 34,
     "metadata": {},
     "output_type": "execute_result"
    },
    {
     "data": {
      "image/png": "[encoded data removed]",
      "text/plain": [
       "<Figure size 432x288 with 2 Axes>"
      ]
     },
     "metadata": {},
     "output_type": "display_data"
    }
   ],
   "source": [
    "#Analysing how number of bedrooms affect the price of the listings\n",
    "#HeatMap for variation of prices with number of bedrooms for listings\n",
    "ax = sns.heatmap(Data.groupby(['room_type', 'bedrooms']).log_price.mean().unstack(),annot=True, fmt=\".0f\")\n",
    "bottom, top = ax.get_ylim()\n",
    "ax.set_ylim(bottom + 0.5, top - 0.5)\n"
   ]
  },
  {
   "cell_type": "code",
   "execution_count": 35,
   "metadata": {},
   "outputs": [
    {
     "data": {
      "text/plain": [
       "(22.5, -0.5)"
      ]
     },
     "execution_count": 35,
     "metadata": {},
     "output_type": "execute_result"
    },
    {
     "data": {
      "image/png": "[encoded data removed]",
      "text/plain": [
       "<Figure size 432x288 with 2 Axes>"
      ]
     },
     "metadata": {},
     "output_type": "display_data"
    }
   ],
   "source": [
    "ax = sns.heatmap(Data.groupby(['room_type', 'bedrooms','beds']).log_price.mean().unstack(),annot=True, fmt=\".0f\")\n",
    "bottom, top = ax.get_ylim()\n",
    "ax.set_ylim(bottom + 0.5, top - 0.5)\n"
   ]
  },
  {
   "cell_type": "code",
   "execution_count": 36,
   "metadata": {},
   "outputs": [
    {
     "data": {
      "text/plain": [
       "(3.5, -0.5)"
      ]
     },
     "execution_count": 36,
     "metadata": {},
     "output_type": "execute_result"
    },
    {
     "data": {
      "image/png": "[encoded data removed]",
      "text/plain": [
       "<Figure size 432x288 with 2 Axes>"
      ]
     },
     "metadata": {},
     "output_type": "display_data"
    }
   ],
   "source": [
    "\n",
    "ax = sns.heatmap(Data.groupby(['room_type', 'accommodates']).log_price.mean().unstack(),annot=True, fmt=\".0f\")\n",
    "bottom, top = ax.get_ylim()\n",
    "ax.set_ylim(bottom + 0.5, top - 0.5)\n"
   ]
  },
  {
   "cell_type": "markdown",
   "metadata": {},
   "source": [
    "It can be analyzed that with the increase in the number of bedrooms price of listing\n",
    " increases. Although, it depends upon the room type as well.\n",
    "\n",
    "It can be concluded that prices of listings depends upon following factors:\n",
    "\n",
    "1) The type of room chosen by a traveler plays booking an entire property costs maximum followed by private room and shared apartment.\n",
    "\n",
    "2) The type of property chosen by the traveler apartments and houses take up an overwhelming majority of all listings.\n"
   ]
  },
  {
   "cell_type": "markdown",
   "metadata": {},
   "source": [
    "# OUTLIERS"
   ]
  },
  {
   "cell_type": "markdown",
   "metadata": {},
   "source": [
    "An outlier is a data point that is distant from other similar points.\n",
    "\n",
    "Outliers in the data can distort predictions and affect the accuracy so it's important to flag them for review. This is especially the case with regression models.\n",
    "\n",
    "The challenge with outlier detection is determining if a point is truly a problem or simply a large value. If a point is genuine then it is very important to keep it in the data as otherwise we're removing the most interesting pdata points. Regardless, it is essential to understand their impact on our predictive models and statistics, and the extent to which a small number of outlying points are dominating the fit of the model (for example, the mean is much more sensitive to outliers than the median). It is left to the best judgement of the investigator to decide whether treating outliers is necessary and how to go about it. Knowledge of domain and impact of the business problem tend to drive this decision."
   ]
  },
  {
   "cell_type": "markdown",
   "metadata": {},
   "source": [
    "## Accommodates"
   ]
  },
  {
   "cell_type": "code",
   "execution_count": 37,
   "metadata": {},
   "outputs": [
    {
     "data": {
      "image/png": "[encoded data removed]",
      "text/plain": [
       "<Figure size 1080x216 with 1 Axes>"
      ]
     },
     "metadata": {},
     "output_type": "display_data"
    },
    {
     "data": {
      "image/png": "[encoded data removed]",
      "text/plain": [
       "<Figure size 1080x72 with 1 Axes>"
      ]
     },
     "metadata": {},
     "output_type": "display_data"
    }
   ],
   "source": [
    "plt.figure(figsize=(15,3))\n",
    "plt.hist(Data['accommodates'], 20)\n",
    "plt.title('Histogram of accommodates')\n",
    "plt.show()\n",
    "\n",
    "plt.figure(figsize=(15,1))\n",
    "sns.boxplot(Data['accommodates'])\n",
    "plt.title('accommodates')\n",
    "plt.show()"
   ]
  },
  {
   "cell_type": "code",
   "execution_count": 38,
   "metadata": {},
   "outputs": [
    {
     "name": "stdout",
     "output_type": "stream",
     "text": [
      "Q1 = 2.0, Q3 = 4.0, 4*IQR = 8.0\n"
     ]
    },
    {
     "data": {
      "text/plain": [
       "306      16.0\n",
       "457      16.0\n",
       "482      11.0\n",
       "569      16.0\n",
       "642      12.0\n",
       "         ... \n",
       "73669    12.0\n",
       "73695    12.0\n",
       "73957    14.0\n",
       "73980    15.0\n",
       "74081    16.0\n",
       "Name: accommodates, Length: 838, dtype: float64"
      ]
     },
     "execution_count": 38,
     "metadata": {},
     "output_type": "execute_result"
    }
   ],
   "source": [
    "quartiles = np.quantile(Data['accommodates'][Data['accommodates'].notnull()], [.25, .75])\n",
    "power_4iqr = 4 * (quartiles[1] - quartiles[0])\n",
    "print(f'Q1 = {quartiles[0]}, Q3 = {quartiles[1]}, 4*IQR = {power_4iqr}')\n",
    "outlier_accommodates = Data.loc[np.abs(Data['accommodates'] - Data['accommodates'].median()) > power_4iqr, 'accommodates']\n",
    "outlier_accommodates"
   ]
  },
  {
   "cell_type": "code",
   "execution_count": 39,
   "metadata": {},
   "outputs": [
    {
     "data": {
      "text/plain": [
       "(73260, 10)"
      ]
     },
     "execution_count": 39,
     "metadata": {},
     "output_type": "execute_result"
    }
   ],
   "source": [
    "Data.drop(outlier_accommodates.index, axis=0, inplace=True)\n",
    "Data.shape"
   ]
  },
  {
   "cell_type": "code",
   "execution_count": 40,
   "metadata": {},
   "outputs": [
    {
     "data": {
      "image/png": "[encoded data removed]",
      "text/plain": [
       "<Figure size 1080x216 with 1 Axes>"
      ]
     },
     "metadata": {},
     "output_type": "display_data"
    },
    {
     "data": {
      "image/png": "[encoded data removed]",
      "text/plain": [
       "<Figure size 1080x72 with 1 Axes>"
      ]
     },
     "metadata": {},
     "output_type": "display_data"
    }
   ],
   "source": [
    "#Plot after outlier removal\n",
    "plt.figure(figsize=(15,3))\n",
    "plt.hist(Data['accommodates'], 20)\n",
    "plt.title('Histogram of accommodates')\n",
    "plt.show()\n",
    "\n",
    "plt.figure(figsize=(15,1))\n",
    "sns.boxplot(Data['accommodates'])\n",
    "plt.title('accommodates')\n",
    "plt.show()"
   ]
  },
  {
   "cell_type": "markdown",
   "metadata": {},
   "source": [
    "Other than accomodates all other visualisation seems to be pretty good and theres no need for outlier removal"
   ]
  },
  {
   "cell_type": "markdown",
   "metadata": {},
   "source": [
    "# CHECKING FOR MULTICOLLINEARITY\n",
    "\n",
    "A rule of thumb for interpreting the variance inflation factor:\n",
    "1 = not correlated.\n",
    "Between 1 and 5 = moderately correlated.\n",
    "Greater than 5 = highly correlated."
   ]
  },
  {
   "cell_type": "code",
   "execution_count": 41,
   "metadata": {},
   "outputs": [
    {
     "data": {
      "text/html": [
       "<div>\n",
       "<style scoped>\n",
       "    .dataframe tbody tr th:only-of-type {\n",
       "        vertical-align: middle;\n",
       "    }\n",
       "\n",
       "    .dataframe tbody tr th {\n",
       "        vertical-align: top;\n",
       "    }\n",
       "\n",
       "    .dataframe thead th {\n",
       "        text-align: right;\n",
       "    }\n",
       "</style>\n",
       "<table border=\"1\" class=\"dataframe\">\n",
       "  <thead>\n",
       "    <tr style=\"text-align: right;\">\n",
       "      <th></th>\n",
       "      <th>id</th>\n",
       "      <th>room_type</th>\n",
       "      <th>accommodates</th>\n",
       "      <th>bathrooms</th>\n",
       "      <th>cancellation_policy</th>\n",
       "      <th>cleaning_fee</th>\n",
       "      <th>instant_bookable</th>\n",
       "      <th>bedrooms</th>\n",
       "      <th>beds</th>\n",
       "      <th>log_price</th>\n",
       "    </tr>\n",
       "  </thead>\n",
       "  <tbody>\n",
       "    <tr>\n",
       "      <th>0</th>\n",
       "      <td>6901257</td>\n",
       "      <td>Entire home/apt</td>\n",
       "      <td>3.0</td>\n",
       "      <td>1.0</td>\n",
       "      <td>strict</td>\n",
       "      <td>True</td>\n",
       "      <td>f</td>\n",
       "      <td>1.0</td>\n",
       "      <td>1.0</td>\n",
       "      <td>5.010635</td>\n",
       "    </tr>\n",
       "    <tr>\n",
       "      <th>1</th>\n",
       "      <td>6304928</td>\n",
       "      <td>Entire home/apt</td>\n",
       "      <td>7.0</td>\n",
       "      <td>1.0</td>\n",
       "      <td>strict</td>\n",
       "      <td>True</td>\n",
       "      <td>t</td>\n",
       "      <td>3.0</td>\n",
       "      <td>3.0</td>\n",
       "      <td>5.129899</td>\n",
       "    </tr>\n",
       "    <tr>\n",
       "      <th>2</th>\n",
       "      <td>7919400</td>\n",
       "      <td>Entire home/apt</td>\n",
       "      <td>5.0</td>\n",
       "      <td>1.0</td>\n",
       "      <td>moderate</td>\n",
       "      <td>True</td>\n",
       "      <td>t</td>\n",
       "      <td>1.0</td>\n",
       "      <td>3.0</td>\n",
       "      <td>4.976734</td>\n",
       "    </tr>\n",
       "    <tr>\n",
       "      <th>3</th>\n",
       "      <td>13418779</td>\n",
       "      <td>Entire home/apt</td>\n",
       "      <td>4.0</td>\n",
       "      <td>1.0</td>\n",
       "      <td>flexible</td>\n",
       "      <td>True</td>\n",
       "      <td>f</td>\n",
       "      <td>2.0</td>\n",
       "      <td>2.0</td>\n",
       "      <td>6.620073</td>\n",
       "    </tr>\n",
       "    <tr>\n",
       "      <th>4</th>\n",
       "      <td>3808709</td>\n",
       "      <td>Entire home/apt</td>\n",
       "      <td>2.0</td>\n",
       "      <td>1.0</td>\n",
       "      <td>moderate</td>\n",
       "      <td>True</td>\n",
       "      <td>t</td>\n",
       "      <td>0.0</td>\n",
       "      <td>1.0</td>\n",
       "      <td>4.744932</td>\n",
       "    </tr>\n",
       "  </tbody>\n",
       "</table>\n",
       "</div>"
      ],
      "text/plain": [
       "         id        room_type  accommodates  bathrooms cancellation_policy  \\\n",
       "0   6901257  Entire home/apt           3.0        1.0              strict   \n",
       "1   6304928  Entire home/apt           7.0        1.0              strict   \n",
       "2   7919400  Entire home/apt           5.0        1.0            moderate   \n",
       "3  13418779  Entire home/apt           4.0        1.0            flexible   \n",
       "4   3808709  Entire home/apt           2.0        1.0            moderate   \n",
       "\n",
       "  cleaning_fee instant_bookable  bedrooms  beds  log_price  \n",
       "0         True                f       1.0   1.0   5.010635  \n",
       "1         True                t       3.0   3.0   5.129899  \n",
       "2         True                t       1.0   3.0   4.976734  \n",
       "3         True                f       2.0   2.0   6.620073  \n",
       "4         True                t       0.0   1.0   4.744932  "
      ]
     },
     "execution_count": 41,
     "metadata": {},
     "output_type": "execute_result"
    }
   ],
   "source": [
    "Data1 = Data\n",
    "Data1.head()"
   ]
  },
  {
   "cell_type": "code",
   "execution_count": 42,
   "metadata": {},
   "outputs": [
    {
     "name": "stdout",
     "output_type": "stream",
     "text": [
      "Series before feature selection: \n",
      "\n",
      "const                  16.497858\n",
      "id                      1.000075\n",
      "room_type               1.435551\n",
      "accommodates            4.086091\n",
      "bathrooms               1.467228\n",
      "cancellation_policy     1.156824\n",
      "cleaning_fee            1.165618\n",
      "instant_bookable        1.014946\n",
      "bedrooms                2.342765\n",
      "beds                    3.134915\n",
      "dtype: float64\n",
      "\n"
     ]
    }
   ],
   "source": [
    "cat_columns= ['room_type', 'cancellation_policy','cleaning_fee',\n",
    "              'instant_bookable']\n",
    "\n",
    "def preprocess(df):\n",
    "    data = df\n",
    "    for col in cat_columns:\n",
    "        data[col] = data[col].astype('category').cat.codes\n",
    "    return data\n",
    "        \n",
    "Data1 = preprocess(Data1)\n",
    "Data1.head()\n",
    "\n",
    "\n",
    "X = Data.drop(['log_price'], axis=1)\n",
    "Y = Data['log_price']\n",
    "\n",
    "from statsmodels.tools.tools import add_constant\n",
    "# dataframe with numerical column only\n",
    "num_feature_set = X.copy()\n",
    "num_feature_set = add_constant(num_feature_set)\n",
    "num_feature_set = num_feature_set.astype(float)\n",
    "\n",
    "from statsmodels.stats.outliers_influence import variance_inflation_factor\n",
    "vif_series1 = pd.Series([variance_inflation_factor(num_feature_set.values,i) for i in range(num_feature_set.shape[1])],index=num_feature_set.columns, dtype = float)\n",
    "print('Series before feature selection: \\n\\n{}\\n'.format(vif_series1))\n",
    "\n"
   ]
  },
  {
   "cell_type": "markdown",
   "metadata": {},
   "source": [
    "Hence we can see that there is no multicollinearity and our dataset can be applicable for further analysis.\n"
   ]
  },
  {
   "cell_type": "markdown",
   "metadata": {},
   "source": [
    "# DATA PREPROCESSING"
   ]
  },
  {
   "cell_type": "code",
   "execution_count": 43,
   "metadata": {},
   "outputs": [
    {
     "data": {
      "text/html": [
       "<div>\n",
       "<style scoped>\n",
       "    .dataframe tbody tr th:only-of-type {\n",
       "        vertical-align: middle;\n",
       "    }\n",
       "\n",
       "    .dataframe tbody tr th {\n",
       "        vertical-align: top;\n",
       "    }\n",
       "\n",
       "    .dataframe thead th {\n",
       "        text-align: right;\n",
       "    }\n",
       "</style>\n",
       "<table border=\"1\" class=\"dataframe\">\n",
       "  <thead>\n",
       "    <tr style=\"text-align: right;\">\n",
       "      <th></th>\n",
       "      <th>count</th>\n",
       "      <th>unique</th>\n",
       "      <th>top</th>\n",
       "      <th>freq</th>\n",
       "    </tr>\n",
       "  </thead>\n",
       "  <tbody>\n",
       "    <tr>\n",
       "      <th>room_type</th>\n",
       "      <td>73260</td>\n",
       "      <td>3</td>\n",
       "      <td>0</td>\n",
       "      <td>40514</td>\n",
       "    </tr>\n",
       "    <tr>\n",
       "      <th>cancellation_policy</th>\n",
       "      <td>73260</td>\n",
       "      <td>3</td>\n",
       "      <td>2</td>\n",
       "      <td>31855</td>\n",
       "    </tr>\n",
       "    <tr>\n",
       "      <th>cleaning_fee</th>\n",
       "      <td>73260</td>\n",
       "      <td>2</td>\n",
       "      <td>1</td>\n",
       "      <td>53652</td>\n",
       "    </tr>\n",
       "    <tr>\n",
       "      <th>instant_bookable</th>\n",
       "      <td>73260</td>\n",
       "      <td>2</td>\n",
       "      <td>0</td>\n",
       "      <td>54057</td>\n",
       "    </tr>\n",
       "  </tbody>\n",
       "</table>\n",
       "</div>"
      ],
      "text/plain": [
       "                     count  unique  top   freq\n",
       "room_type            73260       3    0  40514\n",
       "cancellation_policy  73260       3    2  31855\n",
       "cleaning_fee         73260       2    1  53652\n",
       "instant_bookable     73260       2    0  54057"
      ]
     },
     "execution_count": 43,
     "metadata": {},
     "output_type": "execute_result"
    }
   ],
   "source": [
    "cat_columns= ['room_type', 'cancellation_policy','cleaning_fee',\n",
    "              'instant_bookable']\n",
    "Data[cat_columns] = Data[cat_columns].astype(\"category\")\n",
    "Data.describe(include = ['category']).T\n"
   ]
  },
  {
   "cell_type": "code",
   "execution_count": 44,
   "metadata": {},
   "outputs": [
    {
     "data": {
      "text/plain": [
       "array(['id', 'room_type', 'accommodates', 'bathrooms',\n",
       "       'cancellation_policy', 'cleaning_fee', 'instant_bookable',\n",
       "       'bedrooms', 'beds', 'log_price', 'room_type_0', 'room_type_1',\n",
       "       'room_type_2', 'cancellation_policy_0', 'cancellation_policy_1',\n",
       "       'cancellation_policy_2', 'cleaning_fee_0', 'cleaning_fee_1',\n",
       "       'instant_bookable_0', 'instant_bookable_1'], dtype=object)"
      ]
     },
     "execution_count": 44,
     "metadata": {},
     "output_type": "execute_result"
    }
   ],
   "source": [
    "cat_vars=['room_type', 'cancellation_policy','cleaning_fee','instant_bookable']\n",
    "for var in cat_vars:\n",
    "    cat_list='var'+'_'+var\n",
    "    cat_list = pd.get_dummies(Data[var], prefix=var)\n",
    "    data=Data.join(cat_list)\n",
    "    Data=data\n",
    "\n",
    "# cat_vars=['Hour', 'Month','WeekDay','LocationName']\n",
    "# data_vars=df.columns.values.tolist()\n",
    "# to_keep=[i for i in data_vars if i not in cat_vars]\n",
    "\n",
    "# data_final=df[to_keep]\n",
    "data = Data\n",
    "data.columns.values"
   ]
  },
  {
   "cell_type": "code",
   "execution_count": 62,
   "metadata": {},
   "outputs": [
    {
     "data": {
      "text/html": [
       "<div>\n",
       "<style scoped>\n",
       "    .dataframe tbody tr th:only-of-type {\n",
       "        vertical-align: middle;\n",
       "    }\n",
       "\n",
       "    .dataframe tbody tr th {\n",
       "        vertical-align: top;\n",
       "    }\n",
       "\n",
       "    .dataframe thead th {\n",
       "        text-align: right;\n",
       "    }\n",
       "</style>\n",
       "<table border=\"1\" class=\"dataframe\">\n",
       "  <thead>\n",
       "    <tr style=\"text-align: right;\">\n",
       "      <th></th>\n",
       "      <th>accommodates</th>\n",
       "      <th>bathrooms</th>\n",
       "      <th>bedrooms</th>\n",
       "      <th>beds</th>\n",
       "      <th>room_type_0</th>\n",
       "      <th>room_type_1</th>\n",
       "      <th>room_type_2</th>\n",
       "      <th>cancellation_policy_0</th>\n",
       "      <th>cancellation_policy_1</th>\n",
       "      <th>cancellation_policy_2</th>\n",
       "      <th>cleaning_fee_0</th>\n",
       "      <th>cleaning_fee_1</th>\n",
       "      <th>instant_bookable_0</th>\n",
       "      <th>instant_bookable_1</th>\n",
       "      <th>log_price</th>\n",
       "    </tr>\n",
       "  </thead>\n",
       "  <tbody>\n",
       "    <tr>\n",
       "      <th>0</th>\n",
       "      <td>3.0</td>\n",
       "      <td>1.0</td>\n",
       "      <td>1.0</td>\n",
       "      <td>1.0</td>\n",
       "      <td>1</td>\n",
       "      <td>0</td>\n",
       "      <td>0</td>\n",
       "      <td>0</td>\n",
       "      <td>0</td>\n",
       "      <td>1</td>\n",
       "      <td>0</td>\n",
       "      <td>1</td>\n",
       "      <td>1</td>\n",
       "      <td>0</td>\n",
       "      <td>5.010635</td>\n",
       "    </tr>\n",
       "    <tr>\n",
       "      <th>1</th>\n",
       "      <td>7.0</td>\n",
       "      <td>1.0</td>\n",
       "      <td>3.0</td>\n",
       "      <td>3.0</td>\n",
       "      <td>1</td>\n",
       "      <td>0</td>\n",
       "      <td>0</td>\n",
       "      <td>0</td>\n",
       "      <td>0</td>\n",
       "      <td>1</td>\n",
       "      <td>0</td>\n",
       "      <td>1</td>\n",
       "      <td>0</td>\n",
       "      <td>1</td>\n",
       "      <td>5.129899</td>\n",
       "    </tr>\n",
       "    <tr>\n",
       "      <th>2</th>\n",
       "      <td>5.0</td>\n",
       "      <td>1.0</td>\n",
       "      <td>1.0</td>\n",
       "      <td>3.0</td>\n",
       "      <td>1</td>\n",
       "      <td>0</td>\n",
       "      <td>0</td>\n",
       "      <td>0</td>\n",
       "      <td>1</td>\n",
       "      <td>0</td>\n",
       "      <td>0</td>\n",
       "      <td>1</td>\n",
       "      <td>0</td>\n",
       "      <td>1</td>\n",
       "      <td>4.976734</td>\n",
       "    </tr>\n",
       "    <tr>\n",
       "      <th>3</th>\n",
       "      <td>4.0</td>\n",
       "      <td>1.0</td>\n",
       "      <td>2.0</td>\n",
       "      <td>2.0</td>\n",
       "      <td>1</td>\n",
       "      <td>0</td>\n",
       "      <td>0</td>\n",
       "      <td>1</td>\n",
       "      <td>0</td>\n",
       "      <td>0</td>\n",
       "      <td>0</td>\n",
       "      <td>1</td>\n",
       "      <td>1</td>\n",
       "      <td>0</td>\n",
       "      <td>6.620073</td>\n",
       "    </tr>\n",
       "    <tr>\n",
       "      <th>4</th>\n",
       "      <td>2.0</td>\n",
       "      <td>1.0</td>\n",
       "      <td>0.0</td>\n",
       "      <td>1.0</td>\n",
       "      <td>1</td>\n",
       "      <td>0</td>\n",
       "      <td>0</td>\n",
       "      <td>0</td>\n",
       "      <td>1</td>\n",
       "      <td>0</td>\n",
       "      <td>0</td>\n",
       "      <td>1</td>\n",
       "      <td>0</td>\n",
       "      <td>1</td>\n",
       "      <td>4.744932</td>\n",
       "    </tr>\n",
       "  </tbody>\n",
       "</table>\n",
       "</div>"
      ],
      "text/plain": [
       "   accommodates  bathrooms  bedrooms  beds  room_type_0  room_type_1  \\\n",
       "0           3.0        1.0       1.0   1.0            1            0   \n",
       "1           7.0        1.0       3.0   3.0            1            0   \n",
       "2           5.0        1.0       1.0   3.0            1            0   \n",
       "3           4.0        1.0       2.0   2.0            1            0   \n",
       "4           2.0        1.0       0.0   1.0            1            0   \n",
       "\n",
       "   room_type_2  cancellation_policy_0  cancellation_policy_1  \\\n",
       "0            0                      0                      0   \n",
       "1            0                      0                      0   \n",
       "2            0                      0                      1   \n",
       "3            0                      1                      0   \n",
       "4            0                      0                      1   \n",
       "\n",
       "   cancellation_policy_2  cleaning_fee_0  cleaning_fee_1  instant_bookable_0  \\\n",
       "0                      1               0               1                   1   \n",
       "1                      1               0               1                   0   \n",
       "2                      0               0               1                   0   \n",
       "3                      0               0               1                   1   \n",
       "4                      0               0               1                   0   \n",
       "\n",
       "   instant_bookable_1  log_price  \n",
       "0                   0   5.010635  \n",
       "1                   1   5.129899  \n",
       "2                   1   4.976734  \n",
       "3                   0   6.620073  \n",
       "4                   1   4.744932  "
      ]
     },
     "execution_count": 62,
     "metadata": {},
     "output_type": "execute_result"
    }
   ],
   "source": [
    "data = data[[ 'accommodates', 'bathrooms',\n",
    "         'bedrooms', 'beds', 'room_type_0', 'room_type_1',\n",
    "       'room_type_2', 'cancellation_policy_0', 'cancellation_policy_1',\n",
    "       'cancellation_policy_2', 'cleaning_fee_0', 'cleaning_fee_1',\n",
    "       'instant_bookable_0', 'instant_bookable_1', 'log_price']]\n",
    "data.head()"
   ]
  },
  {
   "cell_type": "markdown",
   "metadata": {},
   "source": [
    "def preprocess(df):\n",
    "    data = df\n",
    "    for col in cat_columns:\n",
    "        data[col] = data[col].astype('category').cat.codes\n",
    "    return data\n",
    "        \n",
    "data = preprocess(Data)\n",
    "data.head()\n"
   ]
  },
  {
   "cell_type": "markdown",
   "metadata": {},
   "source": [
    "# MODELLING"
   ]
  },
  {
   "cell_type": "code",
   "execution_count": 63,
   "metadata": {},
   "outputs": [
    {
     "data": {
      "text/plain": [
       "((65934, 14), (7326, 14), (65934,), (7326,))"
      ]
     },
     "execution_count": 63,
     "metadata": {},
     "output_type": "execute_result"
    }
   ],
   "source": [
    "\n",
    "X = data.iloc[:, :-1].values\n",
    "y = data.iloc[:, -1].values\n",
    "\n",
    "x_train,x_test,y_train,y_test=train_test_split(X,y,test_size=0.1,random_state=105)\n",
    "x_train.shape,x_test.shape,y_train.shape,y_test.shape\n"
   ]
  },
  {
   "cell_type": "code",
   "execution_count": 64,
   "metadata": {},
   "outputs": [
    {
     "name": "stdout",
     "output_type": "stream",
     "text": [
      "Linear Reggression\n",
      "[[3.84 3.22]\n",
      " [4.25 4.14]\n",
      " [4.94 4.7 ]\n",
      " ...\n",
      " [4.31 3.95]\n",
      " [4.33 3.81]\n",
      " [5.26 5.08]]\n"
     ]
    }
   ],
   "source": [
    "print(\"Linear Reggression\")\n",
    "linreg = LinearRegression()\n",
    "linreg.fit(x_train,y_train)\n",
    "y_pred=linreg.predict(x_test)\n",
    "np.set_printoptions(precision=2)\n",
    "print(np.concatenate((y_pred.reshape(len(y_pred),1), y_test.reshape(len(y_test),1)),1))\n"
   ]
  },
  {
   "cell_type": "code",
   "execution_count": 65,
   "metadata": {},
   "outputs": [
    {
     "name": "stdout",
     "output_type": "stream",
     "text": [
      "R-squared train score: 0.501\n",
      "R-squared test score: 0.493\n",
      "0.5053930170471674\n"
     ]
    }
   ],
   "source": [
    "print('R-squared train score: {:.3f}'.format(linreg.score(x_train, y_train)))\n",
    "print('R-squared test score: {:.3f}'.format(linreg.score(x_test, y_test)))\n",
    "### Calculate RMSE\n",
    "rmse1 = np.sqrt(mean_squared_error(y_test, y_pred))\n",
    "print(rmse1)\n"
   ]
  },
  {
   "cell_type": "code",
   "execution_count": 67,
   "metadata": {},
   "outputs": [
    {
     "name": "stdout",
     "output_type": "stream",
     "text": [
      "Feature: 0, Score: 0.08837\n",
      "Feature: 1, Score: 0.14381\n",
      "Feature: 2, Score: 0.15907\n",
      "Feature: 3, Score: -0.05278\n",
      "Feature: 4, Score: 0.57468\n",
      "Feature: 5, Score: -0.05316\n",
      "Feature: 6, Score: -0.52152\n",
      "Feature: 7, Score: 0.02448\n",
      "Feature: 8, Score: -0.03344\n",
      "Feature: 9, Score: 0.00897\n",
      "Feature: 10, Score: 0.03455\n",
      "Feature: 11, Score: -0.03455\n",
      "Feature: 12, Score: 0.03224\n",
      "Feature: 13, Score: -0.03224\n"
     ]
    },
    {
     "data": {
      "text/plain": [
       "Text(0.5, 1.0, 'Feature Importance')"
      ]
     },
     "execution_count": 67,
     "metadata": {},
     "output_type": "execute_result"
    },
    {
     "data": {
      "image/png": "[encoded data removed]",
      "text/plain": [
       "<Figure size 432x288 with 1 Axes>"
      ]
     },
     "metadata": {},
     "output_type": "display_data"
    }
   ],
   "source": [
    "importance = linreg.coef_\n",
    "\n",
    "for i,v in enumerate(importance):\n",
    "\tprint('Feature: %0d, Score: %.5f' % (i,v))\n",
    "# plot feature importance\n",
    "col = ( 'accommodates', 'bathrooms',\n",
    "         'bedrooms', 'beds', 'room_type_0', 'room_type_1',\n",
    "       'room_type_2', 'cancellation_policy_0', 'cancellation_policy_1',\n",
    "       'cancellation_policy_2', 'cleaning_fee_0', 'cleaning_fee_1',\n",
    "       'instant_bookable_0', 'instant_bookable_1')\n",
    "\n",
    "plt.barh(col,importance)\n",
    "plt.title(\"Feature Importance\")\n",
    "\n"
   ]
  },
  {
   "cell_type": "markdown",
   "metadata": {},
   "source": [
    "From the above model we obtained an R2 of 0.50, The most common interpretation of r-squared is how well the regression model fits the observed data. For example, an r-squared of 50% reveals that 50% of the data fit the regression model. Generally, a higher r-squared indicates a better fit for the model.\n",
    "The RMSE is the square root of the variance of the residuals. It indicates the absolute fit of the model to the data–how close the observed data points are to the model’s predicted values. Whereas R-squared is a relative measure of fit, RMSE is an absolute measure of fit.\n",
    "RMSE is a good measure of how accurately the model predicts the response, and it is the most important criterion for fit if the main purpose of the model is prediction.\n",
    "In our case we have an RMSE of 0.50 which is quite good as This produces a value between 0 and 1, where values closer to 0 represent better fitting models."
   ]
  },
  {
   "cell_type": "markdown",
   "metadata": {},
   "source": [
    "Room type appeared to be the most significant variable, followed by bedrooms, bathrooms and accomodates.\n",
    "However, review score rating is the least important variable."
   ]
  },
  {
   "cell_type": "markdown",
   "metadata": {},
   "source": [
    "# FINAL FINDINGS\n",
    "\n",
    "Prices very wildly based on property room types.\n",
    "\n",
    "Majority of listings are rented for their entirety, although private room is a close second. This is the most important factor when people choose where to stay.\n",
    "\n",
    "No. of bedrooms, bathrooms and no. of people accommodated are the next most important factors, meaning that most people who use Airbnb travel in groups.\n",
    "\n",
    "Almost all of listings are apartment or houses.\n",
    "\n",
    "Cancellation policies are unfairly spread out, Owners are strict with the policies.\n",
    "\n"
   ]
  },
  {
   "cell_type": "markdown",
   "metadata": {},
   "source": [
    "# BUSINESS INSIGHTS\n",
    "\n",
    "instead of putting shared rooms or private rooms for listing, owners must think to put appartment as a whole as it earns more money. The number of bathrooms can also be thought to increase if space can allow.\n",
    "\n",
    "A little linent cancellation policies will be better for the listed properties."
   ]
  }
 ],
 "metadata": {
  "kernelspec": {
   "display_name": "Python 3",
   "language": "python",
   "name": "python3"
  },
  "language_info": {
   "codemirror_mode": {
    "name": "ipython",
    "version": 3
   },
   "file_extension": ".py",
   "mimetype": "text/x-python",
   "name": "python",
   "nbconvert_exporter": "python",
   "pygments_lexer": "ipython3",
   "version": "3.7.6"
  }
 },
 "nbformat": 4,
 "nbformat_minor": 4
}
